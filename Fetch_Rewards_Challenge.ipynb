{
 "cells": [
  {
   "cell_type": "markdown",
   "metadata": {},
   "source": [
    "# FETCH REWARDS: Data Engineer Coding Challenge"
   ]
  },
  {
   "cell_type": "markdown",
   "metadata": {},
   "source": [
    "### Submitted by -\n",
    "    Pradeep Joshi"
   ]
  },
  {
   "cell_type": "markdown",
   "metadata": {},
   "source": [
    "### Problem Statement\n",
    "    This challenge will focus on the similarity between two texts. Objective is to write a program that takes as inputs two texts  and uses a metric to determine how similar they are. Documents that are exactly the same should get a score of 1, and documents that don’t have any words in common should get a score of 0."
   ]
  },
  {
   "cell_type": "code",
   "execution_count": 1,
   "metadata": {},
   "outputs": [],
   "source": [
    "# Loading libraries\n",
    "import re\n",
    "import io\n",
    "import nltk\n",
    "#nltk.download()\n",
    "from nltk.corpus import stopwords\n",
    "\n",
    "stopwords = set(stopwords.words('english'))\n",
    "punctuations = '''!()-[]{};:'\"\\,<>./?@#$%^&*_~'''"
   ]
  },
  {
   "cell_type": "markdown",
   "metadata": {},
   "source": [
    "### Reading the Sample Files"
   ]
  },
  {
   "cell_type": "code",
   "execution_count": 2,
   "metadata": {},
   "outputs": [],
   "source": [
    "def text_to_string(file):\n",
    "    with open(file, 'r') as f:\n",
    "        data = f.read()\n",
    "        words = data.split()\n",
    "        words = [word.lower() for word in words]\n",
    "    return words"
   ]
  },
  {
   "cell_type": "markdown",
   "metadata": {},
   "source": [
    "### Removing Punctuations"
   ]
  },
  {
   "cell_type": "code",
   "execution_count": 3,
   "metadata": {},
   "outputs": [],
   "source": [
    "def punctuation(string): \n",
    "  \n",
    "    for x in string:\n",
    "        if x in punctuations: \n",
    "            string = string.replace(x, \"\") \n",
    "    return string"
   ]
  },
  {
   "cell_type": "markdown",
   "metadata": {},
   "source": [
    "### Removing Stop-Words"
   ]
  },
  {
   "cell_type": "code",
   "execution_count": 4,
   "metadata": {},
   "outputs": [],
   "source": [
    "def stop_words(string_list):\n",
    "    string_list = [x for x in string_list if x not in stopwords]\n",
    "    return string_list"
   ]
  },
  {
   "cell_type": "markdown",
   "metadata": {},
   "source": [
    "### Calculating the Jaccard similarity, by comparing the ratio of the number of overlapping words between two texts to the total number of unique words in the text. \n",
    "    Documents that are exactly the same will get a score of 1, and documents that don’t have any words in common will get a score of 0"
   ]
  },
  {
   "cell_type": "code",
   "execution_count": 5,
   "metadata": {},
   "outputs": [],
   "source": [
    "def jaccard_similarity(str1, str2): \n",
    "    string_set1 = set(str1) \n",
    "    string_set2 = set(str2) \n",
    "    string_intersection = string_set1.intersection(string_set2)\n",
    "    return round(float(len(string_intersection)) / (len(string_set1) + len(string_set2) - len(string_intersection)),4)"
   ]
  },
  {
   "cell_type": "code",
   "execution_count": 6,
   "metadata": {},
   "outputs": [],
   "source": [
    "def text_similarity(sample1,sample2):\n",
    "    string_1 = text_to_string(sample1)\n",
    "    string_2 = text_to_string(sample2)\n",
    "    string_list1 = punctuation(string_1)\n",
    "    string_list2 = punctuation(string_2)\n",
    "    string_text1 = stop_words(string_list1)\n",
    "    string_text2 = stop_words(string_list2)\n",
    "    return jaccard_similarity(string_text1,string_text2)"
   ]
  },
  {
   "cell_type": "code",
   "execution_count": 7,
   "metadata": {},
   "outputs": [
    {
     "name": "stdout",
     "output_type": "stream",
     "text": [
      "The similarity score of Sample 1 & Sample 2 is: 0.6111\n"
     ]
    }
   ],
   "source": [
    "print(\"The similarity score of Sample 1 & Sample 2 is:\",text_similarity('sample1.txt', 'sample2.txt')) "
   ]
  },
  {
   "cell_type": "code",
   "execution_count": 8,
   "metadata": {},
   "outputs": [
    {
     "name": "stdout",
     "output_type": "stream",
     "text": [
      "The similarity score of Sample 1 and Sample 3 is: 0.0926\n"
     ]
    }
   ],
   "source": [
    "print(\"The similarity score of Sample 1 and Sample 3 is:\",text_similarity('sample1.txt', 'sample3.txt')) "
   ]
  },
  {
   "cell_type": "markdown",
   "metadata": {},
   "source": [
    "### Conclusion\n",
    "    Sample text 1 and Sample text 2 are much more similiar as compared to Sample text 1 and Sample text 3"
   ]
  }
 ],
 "metadata": {
  "kernelspec": {
   "display_name": "Python 3",
   "language": "python",
   "name": "python3"
  },
  "language_info": {
   "codemirror_mode": {
    "name": "ipython",
    "version": 3
   },
   "file_extension": ".py",
   "mimetype": "text/x-python",
   "name": "python",
   "nbconvert_exporter": "python",
   "pygments_lexer": "ipython3",
   "version": "3.7.4"
  }
 },
 "nbformat": 4,
 "nbformat_minor": 2
}
